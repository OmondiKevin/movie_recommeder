{
 "cells": [
  {
   "cell_type": "code",
   "execution_count": 1,
   "id": "initial_id",
   "metadata": {
    "collapsed": true,
    "ExecuteTime": {
     "end_time": "2023-11-23T05:57:13.457002Z",
     "start_time": "2023-11-23T05:57:12.325545Z"
    }
   },
   "outputs": [],
   "source": [
    "import pandas as pd\n",
    "import numpy as np\n",
    "from main import CLEAN_DATA\n",
    "from tasks import read_json_from_file\n",
    "from tabulate import tabulate\n",
    "from sklearn.metrics.pairwise import cosine_similarity"
   ]
  },
  {
   "cell_type": "raw",
   "source": [
    "Action: check for null values in the dataset "
   ],
   "metadata": {
    "collapsed": false
   },
   "id": "9630d950d934b6c1"
  },
  {
   "cell_type": "code",
   "execution_count": 2,
   "outputs": [
    {
     "name": "stdout",
     "output_type": "stream",
     "text": [
      "5\n"
     ]
    }
   ],
   "source": [
    "df = pd.DataFrame(read_json_from_file(f'{CLEAN_DATA}cleaned_data.json'))\n",
    "print(df['Rating'].isnull().sum())"
   ],
   "metadata": {
    "collapsed": false,
    "ExecuteTime": {
     "end_time": "2023-11-23T05:57:13.464286Z",
     "start_time": "2023-11-23T05:57:13.456487Z"
    }
   },
   "id": "bcbb8d9a5e564b3"
  },
  {
   "cell_type": "markdown",
   "source": [
    "Action: Calculate the mean of the ratings "
   ],
   "metadata": {
    "collapsed": false
   },
   "id": "1db21d23051b517b"
  },
  {
   "cell_type": "code",
   "execution_count": 3,
   "outputs": [
    {
     "name": "stdout",
     "output_type": "stream",
     "text": [
      "3.87\n"
     ]
    }
   ],
   "source": [
    "mean_rating = round(df['Rating'].mean(), 2)\n",
    "print(mean_rating)\n"
   ],
   "metadata": {
    "collapsed": false,
    "ExecuteTime": {
     "end_time": "2023-11-23T05:57:13.469920Z",
     "start_time": "2023-11-23T05:57:13.463058Z"
    }
   },
   "id": "f50a2cf98dabc11"
  },
  {
   "cell_type": "markdown",
   "source": [
    "Action: Apply the mean to all the Nan or Null values in the rating column"
   ],
   "metadata": {
    "collapsed": false
   },
   "id": "c04d159c341650c1"
  },
  {
   "cell_type": "code",
   "execution_count": 4,
   "outputs": [
    {
     "name": "stdout",
     "output_type": "stream",
     "text": [
      "      User          Movie    Rating\n",
      "0    Alice      Star Wars  5.000000\n",
      "1    Frank  The Godfather  4.000000\n",
      "2      Bob        Titanic  5.000000\n",
      "3    Carol     The Matrix  3.000000\n",
      "4     Dave      Inception  2.000000\n",
      "5    Emily   Pulp Fiction  4.000000\n",
      "6   Quincy      Star Wars  5.000000\n",
      "7      Bob      Star Wars  2.000000\n",
      "8    Frank   Forrest Gump  3.000000\n",
      "9    Alice     The Matrix  4.000000\n",
      "10    Paul        Titanic  4.000000\n",
      "11   Carol      Inception  5.000000\n",
      "12    Dave        Titanic  4.000000\n",
      "13   Emily  The Godfather  5.000000\n",
      "14   Alice      Inception  3.000000\n",
      "15    Paul  The Godfather  5.000000\n",
      "16   Carol   Pulp Fiction  4.000000\n",
      "17     Ivy      Star Wars  5.000000\n",
      "18   Emily   Forrest Gump  3.000000\n",
      "19  Quincy     The Matrix  4.000000\n",
      "20     Ivy     The Matrix  4.000000\n",
      "21    Paul      Inception  1.000000\n",
      "22     Bob  The Godfather  4.000000\n",
      "23   Frank      Star Wars  5.000000\n",
      "24     Ivy      Inception  3.000000\n",
      "25    Dave   Forrest Gump  5.000000\n",
      "26  Quincy      Inception  3.000000\n",
      "27   Karen     The Matrix  3.000000\n",
      "28     Leo        Titanic  4.000000\n",
      "29     Mia  The Godfather  5.000000\n",
      "30    Nina      Star Wars  5.000000\n",
      "31   Oscar     The Matrix  4.000000\n",
      "32   Sarah      Star Wars  5.000000\n",
      "33     Tom   Pulp Fiction  3.867925\n",
      "34   Karen      Inception  5.000000\n",
      "35     Leo      Inception  2.000000\n",
      "36     Mia   Pulp Fiction  4.000000\n",
      "37    Nina  The Godfather  4.000000\n",
      "38   Oscar   Pulp Fiction  2.000000\n",
      "39   Sarah      Inception  4.000000\n",
      "40     Tom      Inception  3.867925\n",
      "41  Victor  The Godfather  3.867925\n",
      "42   Wendy   Pulp Fiction  4.000000\n",
      "43    Zane   Pulp Fiction  3.000000\n",
      "44     Uma        Titanic  5.000000\n",
      "45  Victor         Matrix  3.867925\n",
      "46   Wendy     The Matrix  3.000000\n",
      "47  Xander   Forrest Gump  5.000000\n",
      "48    Yara      Inception  5.000000\n",
      "49    Zane   Forrest Gump  3.000000\n",
      "50     Uma      Star Wars  2.000000\n",
      "51    Yara     The Matrix  3.867925\n",
      "52   Karen   Pulp Fiction  4.000000\n",
      "53     Leo   Forrest Gump  5.000000\n",
      "54     Mia   Forrest Gump  3.000000\n",
      "55    Nina   Forrest Gump  3.000000\n",
      "56   Oscar   Forrest Gump  5.000000\n",
      "57    Zane      Star Wars  4.000000\n"
     ]
    }
   ],
   "source": [
    "df['Rating'].fillna(df['Rating'].mean(), inplace=True)\n",
    "print(df)"
   ],
   "metadata": {
    "collapsed": false,
    "ExecuteTime": {
     "end_time": "2023-11-23T05:57:13.475413Z",
     "start_time": "2023-11-23T05:57:13.466381Z"
    }
   },
   "id": "87de1d7e1dd09bf7"
  },
  {
   "cell_type": "markdown",
   "source": [
    "Action: To refer to all the users with their indices instead of the names, create their corresponding numerical indices"
   ],
   "metadata": {
    "collapsed": false
   },
   "id": "ff504d56dab507f1"
  },
  {
   "cell_type": "code",
   "execution_count": 5,
   "outputs": [
    {
     "name": "stdout",
     "output_type": "stream",
     "text": [
      "      User          Movie    Rating\n",
      "0    Alice      Star Wars  5.000000\n",
      "1    Frank  The Godfather  4.000000\n",
      "2      Bob        Titanic  5.000000\n",
      "3    Carol     The Matrix  3.000000\n",
      "4     Dave      Inception  2.000000\n",
      "5    Emily   Pulp Fiction  4.000000\n",
      "6   Quincy      Star Wars  5.000000\n",
      "7      Bob      Star Wars  2.000000\n",
      "8    Frank   Forrest Gump  3.000000\n",
      "9    Alice     The Matrix  4.000000\n",
      "10    Paul        Titanic  4.000000\n",
      "11   Carol      Inception  5.000000\n",
      "12    Dave        Titanic  4.000000\n",
      "13   Emily  The Godfather  5.000000\n",
      "14   Alice      Inception  3.000000\n",
      "15    Paul  The Godfather  5.000000\n",
      "16   Carol   Pulp Fiction  4.000000\n",
      "17     Ivy      Star Wars  5.000000\n",
      "18   Emily   Forrest Gump  3.000000\n",
      "19  Quincy     The Matrix  4.000000\n",
      "20     Ivy     The Matrix  4.000000\n",
      "21    Paul      Inception  1.000000\n",
      "22     Bob  The Godfather  4.000000\n",
      "23   Frank      Star Wars  5.000000\n",
      "24     Ivy      Inception  3.000000\n",
      "25    Dave   Forrest Gump  5.000000\n",
      "26  Quincy      Inception  3.000000\n",
      "27   Karen     The Matrix  3.000000\n",
      "28     Leo        Titanic  4.000000\n",
      "29     Mia  The Godfather  5.000000\n",
      "30    Nina      Star Wars  5.000000\n",
      "31   Oscar     The Matrix  4.000000\n",
      "32   Sarah      Star Wars  5.000000\n",
      "33     Tom   Pulp Fiction  3.867925\n",
      "34   Karen      Inception  5.000000\n",
      "35     Leo      Inception  2.000000\n",
      "36     Mia   Pulp Fiction  4.000000\n",
      "37    Nina  The Godfather  4.000000\n",
      "38   Oscar   Pulp Fiction  2.000000\n",
      "39   Sarah      Inception  4.000000\n",
      "40     Tom      Inception  3.867925\n",
      "41  Victor  The Godfather  3.867925\n",
      "42   Wendy   Pulp Fiction  4.000000\n",
      "43    Zane   Pulp Fiction  3.000000\n",
      "44     Uma        Titanic  5.000000\n",
      "45  Victor         Matrix  3.867925\n",
      "46   Wendy     The Matrix  3.000000\n",
      "47  Xander   Forrest Gump  5.000000\n",
      "48    Yara      Inception  5.000000\n",
      "49    Zane   Forrest Gump  3.000000\n",
      "50     Uma      Star Wars  2.000000\n",
      "51    Yara     The Matrix  3.867925\n",
      "52   Karen   Pulp Fiction  4.000000\n",
      "53     Leo   Forrest Gump  5.000000\n",
      "54     Mia   Forrest Gump  3.000000\n",
      "55    Nina   Forrest Gump  3.000000\n",
      "56   Oscar   Forrest Gump  5.000000\n",
      "57    Zane      Star Wars  4.000000\n"
     ]
    }
   ],
   "source": [
    "user_ids = df['User'].astype('category').cat.codes\n",
    "movie_ids = df['Movie'].astype('category').cat.codes\n",
    "print(df)"
   ],
   "metadata": {
    "collapsed": false,
    "ExecuteTime": {
     "end_time": "2023-11-23T05:57:13.541254Z",
     "start_time": "2023-11-23T05:57:13.476617Z"
    }
   },
   "id": "71918c7c84185de4"
  },
  {
   "cell_type": "markdown",
   "source": [
    "Action: Create a user movie matrix and calculate cosine similarity between them, you can choose to print for each"
   ],
   "metadata": {
    "collapsed": false
   },
   "id": "8d1d06f167093596"
  },
  {
   "cell_type": "code",
   "execution_count": 6,
   "outputs": [],
   "source": [
    "user_movie_matrix = pd.pivot_table(df, values='Rating', index=user_ids, columns=movie_ids, fill_value=0)\n",
    "user_similarity = cosine_similarity(user_movie_matrix)"
   ],
   "metadata": {
    "collapsed": false,
    "ExecuteTime": {
     "end_time": "2023-11-23T05:57:13.541626Z",
     "start_time": "2023-11-23T05:57:13.484844Z"
    }
   },
   "id": "447d3a8b5dabb56d"
  },
  {
   "cell_type": "markdown",
   "source": [
    "Action: Create the movie recommender function with user's name and limit recommendations to 5 by Default. "
   ],
   "metadata": {
    "collapsed": false
   },
   "id": "1e592c9ba07477f6"
  },
  {
   "cell_type": "code",
   "execution_count": 7,
   "outputs": [],
   "source": [
    "def recommend_movies_with_names(user, top_n=5):\n",
    "    user_id = user_ids[df['User'] == user].values[0]\n",
    "    user_ratings = user_movie_matrix.loc[user_id]\n",
    "    \n",
    "    similar_users = user_similarity[user_id].argsort()[::-1][1:]\n",
    "    weighted_sum = np.dot(user_similarity[user_id, similar_users], user_movie_matrix.iloc[similar_users].values)\n",
    "    \n",
    "    predicted_ratings = weighted_sum / np.sum(np.abs(user_similarity[user_id, similar_users]))\n",
    "    unrated_movies = user_ratings[user_ratings == 0].index\n",
    "    recommendations = pd.Series(predicted_ratings, index=user_movie_matrix.columns)[unrated_movies].sort_values(ascending=False)\n",
    "    \n",
    "    movie_names = df['Movie'].unique()[recommendations.index]\n",
    "    \n",
    "    recommended_movies = pd.DataFrame({\n",
    "        'Movie': movie_names,\n",
    "        'Predicted Rating': recommendations.values\n",
    "    }).head(top_n)\n",
    "    \n",
    "    return recommended_movies"
   ],
   "metadata": {
    "collapsed": false,
    "ExecuteTime": {
     "end_time": "2023-11-23T05:57:13.541706Z",
     "start_time": "2023-11-23T05:57:13.495236Z"
    }
   },
   "id": "8b0ce859996eec4a"
  },
  {
   "cell_type": "markdown",
   "source": [
    "Action: Usage, call the functions and show the output in an ASCII format using tabulate. See sample Usage below"
   ],
   "metadata": {
    "collapsed": false
   },
   "id": "bc02345ceace907"
  },
  {
   "cell_type": "code",
   "execution_count": 9,
   "outputs": [
    {
     "name": "stdout",
     "output_type": "stream",
     "text": [
      "╒════╤══════════════╤════════════════════╕\n",
      "│    │ Movie        │   Predicted Rating │\n",
      "╞════╪══════════════╪════════════════════╡\n",
      "│  0 │ The Matrix   │           1.14494  │\n",
      "├────┼──────────────┼────────────────────┤\n",
      "│  1 │ Star Wars    │           0.945625 │\n",
      "├────┼──────────────┼────────────────────┤\n",
      "│  2 │ Pulp Fiction │           0.660141 │\n",
      "╘════╧══════════════╧════════════════════╛\n"
     ]
    }
   ],
   "source": [
    "top_user_recommendations_with_names = recommend_movies_with_names(\"Alice\", top_n=3)\n",
    "print(tabulate(top_user_recommendations_with_names, headers='keys', tablefmt='fancy_grid'))"
   ],
   "metadata": {
    "collapsed": false,
    "ExecuteTime": {
     "end_time": "2023-11-23T05:57:32.539436Z",
     "start_time": "2023-11-23T05:57:32.521911Z"
    }
   },
   "id": "2753a05406eee976"
  }
 ],
 "metadata": {
  "kernelspec": {
   "display_name": "Python 3",
   "language": "python",
   "name": "python3"
  },
  "language_info": {
   "codemirror_mode": {
    "name": "ipython",
    "version": 2
   },
   "file_extension": ".py",
   "mimetype": "text/x-python",
   "name": "python",
   "nbconvert_exporter": "python",
   "pygments_lexer": "ipython2",
   "version": "2.7.6"
  }
 },
 "nbformat": 4,
 "nbformat_minor": 5
}
