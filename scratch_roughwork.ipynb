{
 "cells": [
  {
   "cell_type": "code",
   "execution_count": 30,
   "id": "initial_id",
   "metadata": {
    "collapsed": true,
    "ExecuteTime": {
     "end_time": "2023-11-23T07:29:11.409347Z",
     "start_time": "2023-11-23T07:29:11.393071Z"
    }
   },
   "outputs": [],
   "source": [
    "import pandas as pd\n",
    "import numpy as np\n",
    "from main import CLEAN_DATA\n",
    "from tasks import read_json_from_file\n",
    "from tabulate import tabulate\n",
    "from sklearn.metrics.pairwise import cosine_similarity"
   ]
  },
  {
   "cell_type": "raw",
   "source": [
    "Action: check for null values in the dataset "
   ],
   "metadata": {
    "collapsed": false
   },
   "id": "9630d950d934b6c1"
  },
  {
   "cell_type": "code",
   "execution_count": 31,
   "outputs": [
    {
     "name": "stdout",
     "output_type": "stream",
     "text": [
      "5\n"
     ]
    }
   ],
   "source": [
    "df = pd.DataFrame(read_json_from_file(f'{CLEAN_DATA}cleaned_data.json'))\n",
    "print(df['Rating'].isnull().sum())"
   ],
   "metadata": {
    "collapsed": false,
    "ExecuteTime": {
     "end_time": "2023-11-23T07:29:11.437320Z",
     "start_time": "2023-11-23T07:29:11.398754Z"
    }
   },
   "id": "bcbb8d9a5e564b3"
  },
  {
   "cell_type": "markdown",
   "source": [
    "Action: Calculate the mean of the ratings "
   ],
   "metadata": {
    "collapsed": false
   },
   "id": "1db21d23051b517b"
  },
  {
   "cell_type": "code",
   "execution_count": 32,
   "outputs": [
    {
     "name": "stdout",
     "output_type": "stream",
     "text": [
      "3.87\n"
     ]
    }
   ],
   "source": [
    "mean_rating = round(df['Rating'].mean(), 2)\n",
    "print(mean_rating)\n"
   ],
   "metadata": {
    "collapsed": false,
    "ExecuteTime": {
     "end_time": "2023-11-23T07:29:11.439891Z",
     "start_time": "2023-11-23T07:29:11.434892Z"
    }
   },
   "id": "f50a2cf98dabc11"
  },
  {
   "cell_type": "markdown",
   "source": [
    "Action: Apply the mean to all the Nan or Null values in the rating column"
   ],
   "metadata": {
    "collapsed": false
   },
   "id": "c04d159c341650c1"
  },
  {
   "cell_type": "code",
   "execution_count": 33,
   "outputs": [
    {
     "name": "stdout",
     "output_type": "stream",
     "text": [
      "      User          Movie    Rating\n",
      "0    Alice      Star Wars  5.000000\n",
      "1    Frank  The Godfather  4.000000\n",
      "2      Bob        Titanic  5.000000\n",
      "3    Carol     The Matrix  3.000000\n",
      "4     Dave      Inception  2.000000\n",
      "5    Emily   Pulp Fiction  4.000000\n",
      "6   Quincy      Star Wars  5.000000\n",
      "7      Bob      Star Wars  2.000000\n",
      "8    Frank   Forrest Gump  3.000000\n",
      "9    Alice     The Matrix  4.000000\n",
      "10    Paul        Titanic  4.000000\n",
      "11   Carol      Inception  5.000000\n",
      "12    Dave        Titanic  4.000000\n",
      "13   Emily  The Godfather  5.000000\n",
      "14   Alice      Inception  3.000000\n",
      "15    Paul  The Godfather  5.000000\n",
      "16   Carol   Pulp Fiction  4.000000\n",
      "17     Ivy      Star Wars  5.000000\n",
      "18   Emily   Forrest Gump  3.000000\n",
      "19  Quincy     The Matrix  4.000000\n",
      "20     Ivy     The Matrix  4.000000\n",
      "21    Paul      Inception  1.000000\n",
      "22     Bob  The Godfather  4.000000\n",
      "23   Frank      Star Wars  5.000000\n",
      "24     Ivy      Inception  3.000000\n",
      "25    Dave   Forrest Gump  5.000000\n",
      "26  Quincy      Inception  3.000000\n",
      "27   Karen     The Matrix  3.000000\n",
      "28     Leo        Titanic  4.000000\n",
      "29     Mia  The Godfather  5.000000\n",
      "30    Nina      Star Wars  5.000000\n",
      "31   Oscar     The Matrix  4.000000\n",
      "32   Sarah      Star Wars  5.000000\n",
      "33     Tom   Pulp Fiction  3.867925\n",
      "34   Karen      Inception  5.000000\n",
      "35     Leo      Inception  2.000000\n",
      "36     Mia   Pulp Fiction  4.000000\n",
      "37    Nina  The Godfather  4.000000\n",
      "38   Oscar   Pulp Fiction  2.000000\n",
      "39   Sarah      Inception  4.000000\n",
      "40     Tom      Inception  3.867925\n",
      "41  Victor  The Godfather  3.867925\n",
      "42   Wendy   Pulp Fiction  4.000000\n",
      "43    Zane   Pulp Fiction  3.000000\n",
      "44     Uma        Titanic  5.000000\n",
      "45  Victor         Matrix  3.867925\n",
      "46   Wendy     The Matrix  3.000000\n",
      "47  Xander   Forrest Gump  5.000000\n",
      "48    Yara      Inception  5.000000\n",
      "49    Zane   Forrest Gump  3.000000\n",
      "50     Uma      Star Wars  2.000000\n",
      "51    Yara     The Matrix  3.867925\n",
      "52   Karen   Pulp Fiction  4.000000\n",
      "53     Leo   Forrest Gump  5.000000\n",
      "54     Mia   Forrest Gump  3.000000\n",
      "55    Nina   Forrest Gump  3.000000\n",
      "56   Oscar   Forrest Gump  5.000000\n",
      "57    Zane      Star Wars  4.000000\n"
     ]
    }
   ],
   "source": [
    "df['Rating'].fillna(df['Rating'].mean(), inplace=True)\n",
    "print(df)"
   ],
   "metadata": {
    "collapsed": false,
    "ExecuteTime": {
     "end_time": "2023-11-23T07:29:11.466589Z",
     "start_time": "2023-11-23T07:29:11.449553Z"
    }
   },
   "id": "87de1d7e1dd09bf7"
  },
  {
   "cell_type": "markdown",
   "source": [
    "Action: To refer to all the users with their indices instead of the names, create their corresponding numerical indices"
   ],
   "metadata": {
    "collapsed": false
   },
   "id": "ff504d56dab507f1"
  },
  {
   "cell_type": "code",
   "execution_count": 34,
   "outputs": [
    {
     "name": "stdout",
     "output_type": "stream",
     "text": [
      "      User          Movie    Rating\n",
      "0    Alice      Star Wars  5.000000\n",
      "1    Frank  The Godfather  4.000000\n",
      "2      Bob        Titanic  5.000000\n",
      "3    Carol     The Matrix  3.000000\n",
      "4     Dave      Inception  2.000000\n",
      "5    Emily   Pulp Fiction  4.000000\n",
      "6   Quincy      Star Wars  5.000000\n",
      "7      Bob      Star Wars  2.000000\n",
      "8    Frank   Forrest Gump  3.000000\n",
      "9    Alice     The Matrix  4.000000\n",
      "10    Paul        Titanic  4.000000\n",
      "11   Carol      Inception  5.000000\n",
      "12    Dave        Titanic  4.000000\n",
      "13   Emily  The Godfather  5.000000\n",
      "14   Alice      Inception  3.000000\n",
      "15    Paul  The Godfather  5.000000\n",
      "16   Carol   Pulp Fiction  4.000000\n",
      "17     Ivy      Star Wars  5.000000\n",
      "18   Emily   Forrest Gump  3.000000\n",
      "19  Quincy     The Matrix  4.000000\n",
      "20     Ivy     The Matrix  4.000000\n",
      "21    Paul      Inception  1.000000\n",
      "22     Bob  The Godfather  4.000000\n",
      "23   Frank      Star Wars  5.000000\n",
      "24     Ivy      Inception  3.000000\n",
      "25    Dave   Forrest Gump  5.000000\n",
      "26  Quincy      Inception  3.000000\n",
      "27   Karen     The Matrix  3.000000\n",
      "28     Leo        Titanic  4.000000\n",
      "29     Mia  The Godfather  5.000000\n",
      "30    Nina      Star Wars  5.000000\n",
      "31   Oscar     The Matrix  4.000000\n",
      "32   Sarah      Star Wars  5.000000\n",
      "33     Tom   Pulp Fiction  3.867925\n",
      "34   Karen      Inception  5.000000\n",
      "35     Leo      Inception  2.000000\n",
      "36     Mia   Pulp Fiction  4.000000\n",
      "37    Nina  The Godfather  4.000000\n",
      "38   Oscar   Pulp Fiction  2.000000\n",
      "39   Sarah      Inception  4.000000\n",
      "40     Tom      Inception  3.867925\n",
      "41  Victor  The Godfather  3.867925\n",
      "42   Wendy   Pulp Fiction  4.000000\n",
      "43    Zane   Pulp Fiction  3.000000\n",
      "44     Uma        Titanic  5.000000\n",
      "45  Victor         Matrix  3.867925\n",
      "46   Wendy     The Matrix  3.000000\n",
      "47  Xander   Forrest Gump  5.000000\n",
      "48    Yara      Inception  5.000000\n",
      "49    Zane   Forrest Gump  3.000000\n",
      "50     Uma      Star Wars  2.000000\n",
      "51    Yara     The Matrix  3.867925\n",
      "52   Karen   Pulp Fiction  4.000000\n",
      "53     Leo   Forrest Gump  5.000000\n",
      "54     Mia   Forrest Gump  3.000000\n",
      "55    Nina   Forrest Gump  3.000000\n",
      "56   Oscar   Forrest Gump  5.000000\n",
      "57    Zane      Star Wars  4.000000\n"
     ]
    }
   ],
   "source": [
    "user_ids = df['User'].astype('category').cat.codes\n",
    "movie_ids = df['Movie'].astype('category').cat.codes\n",
    "print(df)"
   ],
   "metadata": {
    "collapsed": false,
    "ExecuteTime": {
     "end_time": "2023-11-23T07:29:11.480229Z",
     "start_time": "2023-11-23T07:29:11.460022Z"
    }
   },
   "id": "71918c7c84185de4"
  },
  {
   "cell_type": "markdown",
   "source": [
    "Action: Create a user movie matrix and calculate cosine similarity between them, you can choose to print for each"
   ],
   "metadata": {
    "collapsed": false
   },
   "id": "8d1d06f167093596"
  },
  {
   "cell_type": "code",
   "execution_count": 35,
   "outputs": [],
   "source": [
    "user_movie_matrix = pd.pivot_table(df, values='Rating', index=user_ids, columns=movie_ids, fill_value=0)\n",
    "user_similarity = cosine_similarity(user_movie_matrix)"
   ],
   "metadata": {
    "collapsed": false,
    "ExecuteTime": {
     "end_time": "2023-11-23T07:29:11.693264Z",
     "start_time": "2023-11-23T07:29:11.629893Z"
    }
   },
   "id": "447d3a8b5dabb56d"
  },
  {
   "cell_type": "markdown",
   "source": [
    "Action: Create the movie recommender function with user's name and limit recommendations to 5 by Default. "
   ],
   "metadata": {
    "collapsed": false
   },
   "id": "1e592c9ba07477f6"
  },
  {
   "cell_type": "code",
   "execution_count": 36,
   "outputs": [],
   "source": [
    "def recommend_movies_with_names(user, top_n=5):\n",
    "    user_id = user_ids[df['User'] == user].values[0]\n",
    "    user_ratings = user_movie_matrix.loc[user_id]\n",
    "    \n",
    "    similar_users = user_similarity[user_id].argsort()[::-1][1:]\n",
    "    weighted_sum = np.dot(user_similarity[user_id, similar_users], user_movie_matrix.iloc[similar_users].values)\n",
    "    \n",
    "    predicted_ratings = weighted_sum / np.sum(np.abs(user_similarity[user_id, similar_users]))\n",
    "    unrated_movies = user_ratings[user_ratings == 0].index\n",
    "    recommendations = pd.Series(predicted_ratings, index=user_movie_matrix.columns)[unrated_movies].sort_values(ascending=False)\n",
    "    \n",
    "    movie_names = df['Movie'].unique()[recommendations.index]\n",
    "    \n",
    "    recommended_movies = pd.DataFrame({\n",
    "        'Movie': movie_names,\n",
    "        'Predicted Rating': recommendations.values\n",
    "    }).head(top_n)\n",
    "    \n",
    "    return recommended_movies"
   ],
   "metadata": {
    "collapsed": false,
    "ExecuteTime": {
     "end_time": "2023-11-23T07:29:11.698682Z",
     "start_time": "2023-11-23T07:29:11.631992Z"
    }
   },
   "id": "8b0ce859996eec4a"
  },
  {
   "cell_type": "markdown",
   "source": [
    "Action: Usage, call the functions and show the output in an ASCII format using tabulate. See sample Usage below"
   ],
   "metadata": {
    "collapsed": false
   },
   "id": "bc02345ceace907"
  },
  {
   "cell_type": "code",
   "execution_count": 37,
   "outputs": [
    {
     "name": "stdout",
     "output_type": "stream",
     "text": [
      "╒════╤══════════════╤════════════════════╕\n",
      "│    │ Movie        │   Predicted Rating │\n",
      "╞════╪══════════════╪════════════════════╡\n",
      "│  0 │ The Matrix   │           1.14494  │\n",
      "├────┼──────────────┼────────────────────┤\n",
      "│  1 │ Star Wars    │           0.945625 │\n",
      "├────┼──────────────┼────────────────────┤\n",
      "│  2 │ Pulp Fiction │           0.660141 │\n",
      "╘════╧══════════════╧════════════════════╛\n"
     ]
    }
   ],
   "source": [
    "user_name = str(input(\"What is your Name? \")).replace(\" \", \"\")\n",
    "movies = int(input('How many movies do you want listed? '))\n",
    "top_user_recommendations_with_names = recommend_movies_with_names(user_name, top_n=movies)\n",
    "print(tabulate(top_user_recommendations_with_names, headers='keys', tablefmt='fancy_grid'))"
   ],
   "metadata": {
    "collapsed": false,
    "ExecuteTime": {
     "end_time": "2023-11-23T07:29:17.121413Z",
     "start_time": "2023-11-23T07:29:11.632700Z"
    }
   },
   "id": "2753a05406eee976"
  },
  {
   "cell_type": "code",
   "execution_count": 39,
   "outputs": [
    {
     "ename": "AttributeError",
     "evalue": "'numpy.ndarray' object has no attribute 'to_numpy'",
     "output_type": "error",
     "traceback": [
      "\u001B[0;31m---------------------------------------------------------------------------\u001B[0m",
      "\u001B[0;31mAttributeError\u001B[0m                            Traceback (most recent call last)",
      "Cell \u001B[0;32mIn[39], line 62\u001B[0m\n\u001B[1;32m     60\u001B[0m \u001B[38;5;66;03m# Example: Recommend top 3 movies with names for a specific user\u001B[39;00m\n\u001B[1;32m     61\u001B[0m user_name \u001B[38;5;241m=\u001B[39m \u001B[38;5;28minput\u001B[39m(\u001B[38;5;124m\"\u001B[39m\u001B[38;5;124mEnter a user name: \u001B[39m\u001B[38;5;124m\"\u001B[39m)\n\u001B[0;32m---> 62\u001B[0m user_recommendations \u001B[38;5;241m=\u001B[39m \u001B[43mrecommend_movies_with_names\u001B[49m\u001B[43m(\u001B[49m\u001B[43muser_name\u001B[49m\u001B[43m,\u001B[49m\u001B[43m \u001B[49m\u001B[43mtop_n\u001B[49m\u001B[38;5;241;43m=\u001B[39;49m\u001B[38;5;241;43m3\u001B[39;49m\u001B[43m)\u001B[49m\n\u001B[1;32m     64\u001B[0m \u001B[38;5;66;03m# Print the output in ASCII format\u001B[39;00m\n\u001B[1;32m     65\u001B[0m \u001B[38;5;28;01mif\u001B[39;00m \u001B[38;5;28misinstance\u001B[39m(user_recommendations, pd\u001B[38;5;241m.\u001B[39mDataFrame):\n",
      "Cell \u001B[0;32mIn[39], line 50\u001B[0m, in \u001B[0;36mrecommend_movies_with_names\u001B[0;34m(user, top_n)\u001B[0m\n\u001B[1;32m     47\u001B[0m     recommendations \u001B[38;5;241m=\u001B[39m pd\u001B[38;5;241m.\u001B[39mSeries(predicted_ratings, index\u001B[38;5;241m=\u001B[39muser_movie_matrix\u001B[38;5;241m.\u001B[39mcolumns)[unrated_movies]\u001B[38;5;241m.\u001B[39msort_values(ascending\u001B[38;5;241m=\u001B[39m\u001B[38;5;28;01mFalse\u001B[39;00m)\n\u001B[1;32m     49\u001B[0m \u001B[38;5;66;03m# Map movie indices to names using the original movie names\u001B[39;00m\n\u001B[0;32m---> 50\u001B[0m movie_names \u001B[38;5;241m=\u001B[39m df[\u001B[38;5;124m'\u001B[39m\u001B[38;5;124mMovie\u001B[39m\u001B[38;5;124m'\u001B[39m]\u001B[38;5;241m.\u001B[39munique()[\u001B[43munrated_movies\u001B[49m\u001B[38;5;241;43m.\u001B[39;49m\u001B[43mto_numpy\u001B[49m()]\n\u001B[1;32m     52\u001B[0m \u001B[38;5;66;03m# Create a DataFrame with movie names and predicted ratings\u001B[39;00m\n\u001B[1;32m     53\u001B[0m recommended_movies \u001B[38;5;241m=\u001B[39m pd\u001B[38;5;241m.\u001B[39mDataFrame({\n\u001B[1;32m     54\u001B[0m     \u001B[38;5;124m'\u001B[39m\u001B[38;5;124mMovie\u001B[39m\u001B[38;5;124m'\u001B[39m: movie_names,\n\u001B[1;32m     55\u001B[0m     \u001B[38;5;124m'\u001B[39m\u001B[38;5;124mPredicted Rating\u001B[39m\u001B[38;5;124m'\u001B[39m: recommendations\u001B[38;5;241m.\u001B[39mvalues\n\u001B[1;32m     56\u001B[0m })\u001B[38;5;241m.\u001B[39mhead(top_n)\n",
      "\u001B[0;31mAttributeError\u001B[0m: 'numpy.ndarray' object has no attribute 'to_numpy'"
     ]
    }
   ],
   "source": [
    "# Function to recommend movies for a given user\n",
    "def recommend_movies_with_names(user, top_n=5):\n",
    "    user_indices = np.where(df['User'] == user)[0]\n",
    "\n",
    "    if len(user_indices) == 0:\n",
    "        # If the user is not in the dataset\n",
    "        user_ratings = df[df['User'] == user]['Rating'].values.reshape(1, -1)\n",
    "\n",
    "        if user_ratings.size == 0:\n",
    "            # If there are no ratings provided by the user, recommend based on average ratings\n",
    "            avg_ratings = df.groupby('Movie')['Rating'].mean()\n",
    "            unrated_movies = df['Movie'].unique()\n",
    "            recommendations = pd.Series(avg_ratings.loc[unrated_movies].values, index=unrated_movies).sort_values(ascending=False)\n",
    "        else:\n",
    "            # Calculate similarity with existing users\n",
    "            user_similarities = cosine_similarity(user_ratings, user_movie_matrix)\n",
    "\n",
    "            # Weighted sum of ratings from similar users\n",
    "            weighted_sum = np.dot(user_similarities, user_movie_matrix.values.T)\n",
    "\n",
    "            # Normalize by the sum of similarities\n",
    "            predicted_ratings = weighted_sum / np.sum(np.abs(user_similarities))\n",
    "\n",
    "            # Exclude already rated movies\n",
    "            unrated_movies = np.where(user_ratings == 0)[1]\n",
    "\n",
    "            # Sort movies by predicted ratings\n",
    "            recommendations = pd.Series(predicted_ratings[0, unrated_movies], index=unrated_movies).sort_values(ascending=False)\n",
    "    else:\n",
    "        # If the user is in the dataset, proceed with the original recommendation logic\n",
    "        user_id = user_ids.iloc[user_indices[0]]\n",
    "        user_ratings = user_movie_matrix.loc[user_id]\n",
    "\n",
    "        # Find the most similar users\n",
    "        similar_users = user_similarity[user_id].argsort()[::-1][1:]  # Exclude the user itself\n",
    "\n",
    "        # Sum of weighted ratings from similar users\n",
    "        weighted_sum = np.dot(user_similarity[user_id, similar_users], user_movie_matrix.iloc[similar_users].values)\n",
    "\n",
    "        # Calculate the predicted ratings\n",
    "        predicted_ratings = weighted_sum / np.sum(np.abs(user_similarity[user_id, similar_users]))\n",
    "\n",
    "        # Exclude already rated movies\n",
    "        unrated_movies = user_ratings[user_ratings == 0].index\n",
    "\n",
    "        # Sort movies by predicted ratings\n",
    "        recommendations = pd.Series(predicted_ratings, index=user_movie_matrix.columns)[unrated_movies].sort_values(ascending=False)\n",
    "\n",
    "    # Map movie indices to names using the original movie names\n",
    "    movie_names = df['Movie'].unique()[unrated_movies.to_numpy()]\n",
    "\n",
    "    # Create a DataFrame with movie names and predicted ratings\n",
    "    recommended_movies = pd.DataFrame({\n",
    "        'Movie': movie_names,\n",
    "        'Predicted Rating': recommendations.values\n",
    "    }).head(top_n)\n",
    "\n",
    "    return recommended_movies\n",
    "\n",
    "# Example: Recommend top 3 movies with names for a specific user\n",
    "user_name = input(\"Enter a user name: \")\n",
    "user_recommendations = recommend_movies_with_names(user_name, top_n=3)\n",
    "\n",
    "# Print the output in ASCII format\n",
    "if isinstance(user_recommendations, pd.DataFrame):\n",
    "    print(tabulate(user_recommendations, headers='keys', tablefmt='fancy_grid'))\n",
    "else:\n",
    "    print(user_recommendations)\n"
   ],
   "metadata": {
    "collapsed": false,
    "ExecuteTime": {
     "end_time": "2023-11-23T07:29:36.875530Z",
     "start_time": "2023-11-23T07:29:34.638050Z"
    }
   },
   "id": "734abee2d1b0e5eb"
  }
 ],
 "metadata": {
  "kernelspec": {
   "display_name": "Python 3",
   "language": "python",
   "name": "python3"
  },
  "language_info": {
   "codemirror_mode": {
    "name": "ipython",
    "version": 2
   },
   "file_extension": ".py",
   "mimetype": "text/x-python",
   "name": "python",
   "nbconvert_exporter": "python",
   "pygments_lexer": "ipython2",
   "version": "2.7.6"
  }
 },
 "nbformat": 4,
 "nbformat_minor": 5
}
